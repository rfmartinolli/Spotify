{
 "cells": [
  {
   "cell_type": "markdown",
   "metadata": {},
   "source": [
    "**SPOTIFY DATA ANALYSIS** \n",
    "\n",
    "*(from Dec 2021 to Dec 2022)*\n",
    "\n",
    "*RFMUSK account*"
   ]
  },
  {
   "cell_type": "code",
   "execution_count": 1,
   "metadata": {},
   "outputs": [],
   "source": [
    "import numpy as np\n",
    "import pandas as pd\n",
    "import matplotlib.pyplot as plt\n",
    "import seaborn as sns\n",
    "%matplotlib inline"
   ]
  },
  {
   "cell_type": "code",
   "execution_count": 2,
   "metadata": {},
   "outputs": [],
   "source": [
    "# Read Data from Excel file\n",
    "tracks_data = pd.read_excel('CleanDataExcel.xlsx')"
   ]
  },
  {
   "cell_type": "code",
   "execution_count": 3,
   "metadata": {},
   "outputs": [
    {
     "data": {
      "text/html": [
       "<div>\n",
       "<style scoped>\n",
       "    .dataframe tbody tr th:only-of-type {\n",
       "        vertical-align: middle;\n",
       "    }\n",
       "\n",
       "    .dataframe tbody tr th {\n",
       "        vertical-align: top;\n",
       "    }\n",
       "\n",
       "    .dataframe thead th {\n",
       "        text-align: right;\n",
       "    }\n",
       "</style>\n",
       "<table border=\"1\" class=\"dataframe\">\n",
       "  <thead>\n",
       "    <tr style=\"text-align: right;\">\n",
       "      <th></th>\n",
       "      <th>endTime</th>\n",
       "      <th>artistName</th>\n",
       "      <th>trackName</th>\n",
       "      <th>msPlayed</th>\n",
       "    </tr>\n",
       "  </thead>\n",
       "  <tbody>\n",
       "    <tr>\n",
       "      <th>0</th>\n",
       "      <td>12/17/2021 0:00</td>\n",
       "      <td>Keane</td>\n",
       "      <td>Everybody's Changing</td>\n",
       "      <td>215880</td>\n",
       "    </tr>\n",
       "    <tr>\n",
       "      <th>1</th>\n",
       "      <td>12/17/2021 0:05</td>\n",
       "      <td>The Wallflowers</td>\n",
       "      <td>One Headlight</td>\n",
       "      <td>2683</td>\n",
       "    </tr>\n",
       "    <tr>\n",
       "      <th>2</th>\n",
       "      <td>12/17/2021 0:05</td>\n",
       "      <td>The Wallflowers</td>\n",
       "      <td>One Headlight</td>\n",
       "      <td>311774</td>\n",
       "    </tr>\n",
       "    <tr>\n",
       "      <th>3</th>\n",
       "      <td>12/17/2021 0:05</td>\n",
       "      <td>Def Leppard</td>\n",
       "      <td>Love Bites - Remastered 2017</td>\n",
       "      <td>11022</td>\n",
       "    </tr>\n",
       "    <tr>\n",
       "      <th>4</th>\n",
       "      <td>12/17/2021 0:08</td>\n",
       "      <td>Linkin Park</td>\n",
       "      <td>Somewhere I Belong</td>\n",
       "      <td>213933</td>\n",
       "    </tr>\n",
       "  </tbody>\n",
       "</table>\n",
       "</div>"
      ],
      "text/plain": [
       "           endTime       artistName                     trackName  msPlayed\n",
       "0  12/17/2021 0:00            Keane          Everybody's Changing    215880\n",
       "1  12/17/2021 0:05  The Wallflowers                 One Headlight      2683\n",
       "2  12/17/2021 0:05  The Wallflowers                 One Headlight    311774\n",
       "3  12/17/2021 0:05      Def Leppard  Love Bites - Remastered 2017     11022\n",
       "4  12/17/2021 0:08      Linkin Park            Somewhere I Belong    213933"
      ]
     },
     "execution_count": 3,
     "metadata": {},
     "output_type": "execute_result"
    }
   ],
   "source": [
    "tracks_data.head(5)"
   ]
  },
  {
   "cell_type": "code",
   "execution_count": 35,
   "metadata": {},
   "outputs": [
    {
     "data": {
      "text/plain": [
       "(14819, 9)"
      ]
     },
     "execution_count": 35,
     "metadata": {},
     "output_type": "execute_result"
    }
   ],
   "source": [
    "tracks_data.shape"
   ]
  },
  {
   "cell_type": "code",
   "execution_count": 5,
   "metadata": {},
   "outputs": [
    {
     "data": {
      "text/plain": [
       "endTime       0\n",
       "artistName    0\n",
       "trackName     0\n",
       "msPlayed      0\n",
       "dtype: int64"
      ]
     },
     "execution_count": 5,
     "metadata": {},
     "output_type": "execute_result"
    }
   ],
   "source": [
    "# Now check for the null values sum on each columns\n",
    "pd.isnull(tracks_data).sum()"
   ]
  },
  {
   "cell_type": "code",
   "execution_count": 36,
   "metadata": {},
   "outputs": [
    {
     "name": "stdout",
     "output_type": "stream",
     "text": [
      "<class 'pandas.core.frame.DataFrame'>\n",
      "RangeIndex: 14819 entries, 0 to 14818\n",
      "Data columns (total 9 columns):\n",
      " #   Column      Non-Null Count  Dtype         \n",
      "---  ------      --------------  -----         \n",
      " 0   endTime     14819 non-null  datetime64[ns]\n",
      " 1   artistName  14819 non-null  object        \n",
      " 2   name        14819 non-null  object        \n",
      " 3   msPlayed    14819 non-null  int64         \n",
      " 4   Year        14819 non-null  int64         \n",
      " 5   Month       14819 non-null  int64         \n",
      " 6   day         14819 non-null  int64         \n",
      " 7   hour        14819 non-null  int64         \n",
      " 8   day1        14819 non-null  object        \n",
      "dtypes: datetime64[ns](1), int64(5), object(3)\n",
      "memory usage: 1.0+ MB\n"
     ]
    }
   ],
   "source": [
    "tracks_data.info ()"
   ]
  },
  {
   "cell_type": "code",
   "execution_count": 37,
   "metadata": {},
   "outputs": [
    {
     "data": {
      "text/plain": [
       "0       2021-12-17 00:00:00\n",
       "1       2021-12-17 00:05:00\n",
       "2       2021-12-17 00:05:00\n",
       "3       2021-12-17 00:05:00\n",
       "4       2021-12-17 00:08:00\n",
       "                ...        \n",
       "14814   2022-12-17 20:13:00\n",
       "14815   2022-12-17 20:21:00\n",
       "14816   2022-12-17 20:24:00\n",
       "14817   2022-12-17 20:26:00\n",
       "14818   2022-12-17 22:35:00\n",
       "Name: endTime, Length: 14819, dtype: datetime64[ns]"
      ]
     },
     "execution_count": 37,
     "metadata": {},
     "output_type": "execute_result"
    }
   ],
   "source": [
    "#for the analysis I need to work with DateTime, so I need to convert endTime Column to DateTime Type\n",
    "tracks_data[\"endTime\"] = pd.to_datetime(tracks_data[\"endTime\"])\n",
    "tracks_data[\"endTime\"] "
   ]
  },
  {
   "cell_type": "code",
   "execution_count": 147,
   "metadata": {},
   "outputs": [
    {
     "data": {
      "text/html": [
       "<div>\n",
       "<style scoped>\n",
       "    .dataframe tbody tr th:only-of-type {\n",
       "        vertical-align: middle;\n",
       "    }\n",
       "\n",
       "    .dataframe tbody tr th {\n",
       "        vertical-align: top;\n",
       "    }\n",
       "\n",
       "    .dataframe thead th {\n",
       "        text-align: right;\n",
       "    }\n",
       "</style>\n",
       "<table border=\"1\" class=\"dataframe\">\n",
       "  <thead>\n",
       "    <tr style=\"text-align: right;\">\n",
       "      <th></th>\n",
       "      <th>endTime</th>\n",
       "      <th>artistName</th>\n",
       "      <th>name</th>\n",
       "      <th>msPlayed</th>\n",
       "      <th>Year</th>\n",
       "      <th>Month</th>\n",
       "      <th>day</th>\n",
       "      <th>hour</th>\n",
       "      <th>day1</th>\n",
       "      <th>Minutes Played</th>\n",
       "      <th>minPlayed</th>\n",
       "    </tr>\n",
       "  </thead>\n",
       "  <tbody>\n",
       "    <tr>\n",
       "      <th>0</th>\n",
       "      <td>2021-12-17 00:00:00</td>\n",
       "      <td>Keane</td>\n",
       "      <td>Everybody's Changing</td>\n",
       "      <td>215880</td>\n",
       "      <td>2021</td>\n",
       "      <td>12</td>\n",
       "      <td>17</td>\n",
       "      <td>0</td>\n",
       "      <td>Friday</td>\n",
       "      <td>3.598000</td>\n",
       "      <td>3.60</td>\n",
       "    </tr>\n",
       "    <tr>\n",
       "      <th>1</th>\n",
       "      <td>2021-12-17 00:05:00</td>\n",
       "      <td>The Wallflowers</td>\n",
       "      <td>One Headlight</td>\n",
       "      <td>2683</td>\n",
       "      <td>2021</td>\n",
       "      <td>12</td>\n",
       "      <td>17</td>\n",
       "      <td>0</td>\n",
       "      <td>Friday</td>\n",
       "      <td>0.044717</td>\n",
       "      <td>0.04</td>\n",
       "    </tr>\n",
       "    <tr>\n",
       "      <th>2</th>\n",
       "      <td>2021-12-17 00:05:00</td>\n",
       "      <td>The Wallflowers</td>\n",
       "      <td>One Headlight</td>\n",
       "      <td>311774</td>\n",
       "      <td>2021</td>\n",
       "      <td>12</td>\n",
       "      <td>17</td>\n",
       "      <td>0</td>\n",
       "      <td>Friday</td>\n",
       "      <td>5.196233</td>\n",
       "      <td>5.20</td>\n",
       "    </tr>\n",
       "    <tr>\n",
       "      <th>3</th>\n",
       "      <td>2021-12-17 00:05:00</td>\n",
       "      <td>Def Leppard</td>\n",
       "      <td>Love Bites - Remastered 2017</td>\n",
       "      <td>11022</td>\n",
       "      <td>2021</td>\n",
       "      <td>12</td>\n",
       "      <td>17</td>\n",
       "      <td>0</td>\n",
       "      <td>Friday</td>\n",
       "      <td>0.183700</td>\n",
       "      <td>0.18</td>\n",
       "    </tr>\n",
       "    <tr>\n",
       "      <th>4</th>\n",
       "      <td>2021-12-17 00:08:00</td>\n",
       "      <td>Linkin Park</td>\n",
       "      <td>Somewhere I Belong</td>\n",
       "      <td>213933</td>\n",
       "      <td>2021</td>\n",
       "      <td>12</td>\n",
       "      <td>17</td>\n",
       "      <td>0</td>\n",
       "      <td>Friday</td>\n",
       "      <td>3.565550</td>\n",
       "      <td>3.57</td>\n",
       "    </tr>\n",
       "    <tr>\n",
       "      <th>5</th>\n",
       "      <td>2021-12-17 00:13:00</td>\n",
       "      <td>The Cranberries</td>\n",
       "      <td>Zombie</td>\n",
       "      <td>306440</td>\n",
       "      <td>2021</td>\n",
       "      <td>12</td>\n",
       "      <td>17</td>\n",
       "      <td>0</td>\n",
       "      <td>Friday</td>\n",
       "      <td>5.107333</td>\n",
       "      <td>5.11</td>\n",
       "    </tr>\n",
       "    <tr>\n",
       "      <th>6</th>\n",
       "      <td>2021-12-17 00:18:00</td>\n",
       "      <td>The Smashing Pumpkins</td>\n",
       "      <td>Tonight, Tonight - Remastered 2012</td>\n",
       "      <td>254626</td>\n",
       "      <td>2021</td>\n",
       "      <td>12</td>\n",
       "      <td>17</td>\n",
       "      <td>0</td>\n",
       "      <td>Friday</td>\n",
       "      <td>4.243767</td>\n",
       "      <td>4.24</td>\n",
       "    </tr>\n",
       "    <tr>\n",
       "      <th>7</th>\n",
       "      <td>2021-12-17 00:22:00</td>\n",
       "      <td>Sheryl Crow</td>\n",
       "      <td>All I Wanna Do</td>\n",
       "      <td>272866</td>\n",
       "      <td>2021</td>\n",
       "      <td>12</td>\n",
       "      <td>17</td>\n",
       "      <td>0</td>\n",
       "      <td>Friday</td>\n",
       "      <td>4.547767</td>\n",
       "      <td>4.55</td>\n",
       "    </tr>\n",
       "    <tr>\n",
       "      <th>8</th>\n",
       "      <td>2021-12-17 00:23:00</td>\n",
       "      <td>The Smashing Pumpkins</td>\n",
       "      <td>Bullet With Butterfly Wings - Remastered 2012</td>\n",
       "      <td>77840</td>\n",
       "      <td>2021</td>\n",
       "      <td>12</td>\n",
       "      <td>17</td>\n",
       "      <td>0</td>\n",
       "      <td>Friday</td>\n",
       "      <td>1.297333</td>\n",
       "      <td>1.30</td>\n",
       "    </tr>\n",
       "    <tr>\n",
       "      <th>9</th>\n",
       "      <td>2021-12-17 05:17:00</td>\n",
       "      <td>George Harrison</td>\n",
       "      <td>Ballad Of Sir Frankie Crisp (Let It Roll) - Re...</td>\n",
       "      <td>27954</td>\n",
       "      <td>2021</td>\n",
       "      <td>12</td>\n",
       "      <td>17</td>\n",
       "      <td>5</td>\n",
       "      <td>Friday</td>\n",
       "      <td>0.465900</td>\n",
       "      <td>0.47</td>\n",
       "    </tr>\n",
       "  </tbody>\n",
       "</table>\n",
       "</div>"
      ],
      "text/plain": [
       "              endTime             artistName  \\\n",
       "0 2021-12-17 00:00:00                  Keane   \n",
       "1 2021-12-17 00:05:00        The Wallflowers   \n",
       "2 2021-12-17 00:05:00        The Wallflowers   \n",
       "3 2021-12-17 00:05:00            Def Leppard   \n",
       "4 2021-12-17 00:08:00            Linkin Park   \n",
       "5 2021-12-17 00:13:00        The Cranberries   \n",
       "6 2021-12-17 00:18:00  The Smashing Pumpkins   \n",
       "7 2021-12-17 00:22:00            Sheryl Crow   \n",
       "8 2021-12-17 00:23:00  The Smashing Pumpkins   \n",
       "9 2021-12-17 05:17:00        George Harrison   \n",
       "\n",
       "                                                name  msPlayed  Year  Month  \\\n",
       "0                               Everybody's Changing    215880  2021     12   \n",
       "1                                      One Headlight      2683  2021     12   \n",
       "2                                      One Headlight    311774  2021     12   \n",
       "3                       Love Bites - Remastered 2017     11022  2021     12   \n",
       "4                                 Somewhere I Belong    213933  2021     12   \n",
       "5                                             Zombie    306440  2021     12   \n",
       "6                 Tonight, Tonight - Remastered 2012    254626  2021     12   \n",
       "7                                     All I Wanna Do    272866  2021     12   \n",
       "8      Bullet With Butterfly Wings - Remastered 2012     77840  2021     12   \n",
       "9  Ballad Of Sir Frankie Crisp (Let It Roll) - Re...     27954  2021     12   \n",
       "\n",
       "   day  hour    day1  Minutes Played  minPlayed  \n",
       "0   17     0  Friday        3.598000       3.60  \n",
       "1   17     0  Friday        0.044717       0.04  \n",
       "2   17     0  Friday        5.196233       5.20  \n",
       "3   17     0  Friday        0.183700       0.18  \n",
       "4   17     0  Friday        3.565550       3.57  \n",
       "5   17     0  Friday        5.107333       5.11  \n",
       "6   17     0  Friday        4.243767       4.24  \n",
       "7   17     0  Friday        4.547767       4.55  \n",
       "8   17     0  Friday        1.297333       1.30  \n",
       "9   17     5  Friday        0.465900       0.47  "
      ]
     },
     "execution_count": 147,
     "metadata": {},
     "output_type": "execute_result"
    }
   ],
   "source": [
    "#Now i will create several columns out of EndTime Column\n",
    "tracks_data [\"minPlayed\"] = (tracks_data [\"msPlayed\"]/1000/60).round(2)\n",
    "tracks_data [\"Year\"] = tracks_data [\"endTime\"].dt.year\n",
    "tracks_data [\"Month\"] = tracks_data [\"endTime\"].dt.month\n",
    "tracks_data [\"day\"] = tracks_data [\"endTime\"].dt.day\n",
    "tracks_data [\"hour\"] = tracks_data [\"endTime\"].dt.hour\n",
    "tracks_data [\"day1\"] = tracks_data [\"endTime\"].dt.day_name()\n",
    "tracks_data.head(10)"
   ]
  },
  {
   "cell_type": "code",
   "execution_count": 76,
   "metadata": {},
   "outputs": [
    {
     "name": "stdout",
     "output_type": "stream",
     "text": [
      "artistName\n",
      "Metallica                   3048.46\n",
      "Heroes Del Silencio          919.50\n",
      "Miles Davis                  855.85\n",
      "Pantera                      743.83\n",
      "Slayer                       742.82\n",
      "TOOL                         704.09\n",
      "David Gilmour                694.56\n",
      "The Joe Rogan Experience     674.37\n",
      "Guns N' Roses                523.18\n",
      "Iron Maiden                  520.67\n",
      "Red Hot Chili Peppers        442.70\n",
      "Oasis                        419.54\n",
      "Rage Against The Machine     419.24\n",
      "Charlie Parker               389.33\n",
      "Albert King                  375.88\n",
      "Pink Floyd                   365.75\n",
      "Pearl Jam                    342.65\n",
      "Jimi Hendrix                 340.41\n",
      "The Police                   324.03\n",
      "The Beatles                  301.81\n",
      "Name: minPlayed, dtype: float64\n"
     ]
    }
   ],
   "source": [
    "#Top 20 Artist measured by Total of miliSeconds PLayed\n",
    "df_artist = tracks_data.groupby('artistName')['minPlayed'].sum().sort_values(ascending=False)\n",
    "print (df_artist.head(20))"
   ]
  },
  {
   "cell_type": "code",
   "execution_count": 78,
   "metadata": {},
   "outputs": [
    {
     "name": "stdout",
     "output_type": "stream",
     "text": [
      "name\n",
      "High Hopes - Live In Gdansk    233.11\n",
      "Pneuma                         137.50\n",
      "Even Flow                      134.85\n",
      "Hysteria                       127.45\n",
      "#877 - Jordan Peterson         122.84\n",
      "Invincible                     121.60\n",
      "Sultans Of Swing               116.58\n",
      "Like a Stone                   110.64\n",
      "Confusion                      109.27\n",
      "La espuma de Venus             105.94\n",
      "Name: minPlayed, dtype: float64\n"
     ]
    }
   ],
   "source": [
    "#Top 10 Artist and songs measured by Total of Minutes PLayed\n",
    "df_song = tracks_data.groupby('name')['minPlayed'].sum().sort_values(ascending=False)\n",
    "print (df_song.head(10))"
   ]
  },
  {
   "cell_type": "code",
   "execution_count": 148,
   "metadata": {},
   "outputs": [
    {
     "name": "stdout",
     "output_type": "stream",
     "text": [
      "day1\n",
      "Saturday     3909\n",
      "Sunday       2888\n",
      "Friday       2042\n",
      "Thursday     1594\n",
      "Tuesday      1561\n",
      "Monday       1452\n",
      "Wednesday    1373\n",
      "Name: name, dtype: int64\n"
     ]
    }
   ],
   "source": [
    "#How many songs I have played by day *total\n",
    "df_day = tracks_data.groupby('day1')['name'].count().sort_values(ascending=False)\n",
    "print(df_day)"
   ]
  },
  {
   "cell_type": "code",
   "execution_count": 140,
   "metadata": {},
   "outputs": [
    {
     "data": {
      "image/png": "[encoded data removed]",
      "text/plain": [
       "<Figure size 504x360 with 1 Axes>"
      ]
     },
     "metadata": {},
     "output_type": "display_data"
    }
   ],
   "source": [
    "# create a pie chart \n",
    "df_day.plot.pie(y='PIE', labels=df_day.index, legend=False, figsize=(7,5), colors=['#1f77b4', '#ff7f0e', '#2ca02c', '#d62728',\n",
    "                    '#9467bd', '#8c564b', '#e377c2'], \n",
    "                autopct='%1.1f%%', shadow=False, startangle =90)\n",
    "\n",
    "# add a title to the pie chart\n",
    "plt.title('DISTRIBUTION')\n",
    "\n",
    "# show the plot\n",
    "plt.show()"
   ]
  },
  {
   "cell_type": "code",
   "execution_count": 149,
   "metadata": {},
   "outputs": [
    {
     "name": "stdout",
     "output_type": "stream",
     "text": [
      "day1\n",
      "Saturday     11281.76\n",
      "Sunday        8467.96\n",
      "Friday        6217.03\n",
      "Tuesday       5134.93\n",
      "Thursday      4907.77\n",
      "Monday        4460.30\n",
      "Wednesday     4128.60\n",
      "Name: minPlayed, dtype: float64\n"
     ]
    }
   ],
   "source": [
    "#How many Minutes of Music I have played by day *total\n",
    "df_day1 = tracks_data.groupby('day1')['minPlayed'].sum().sort_values(ascending=False)\n",
    "print(df_day1)"
   ]
  },
  {
   "cell_type": "code",
   "execution_count": 145,
   "metadata": {},
   "outputs": [
    {
     "data": {
      "text/plain": [
       "6059"
      ]
     },
     "execution_count": 145,
     "metadata": {},
     "output_type": "execute_result"
    }
   ],
   "source": [
    "#How many Different TRACKS I have played using Spotify?\n",
    "tracks_data[\"name\"].nunique()"
   ]
  },
  {
   "cell_type": "code",
   "execution_count": 146,
   "metadata": {},
   "outputs": [
    {
     "data": {
      "text/plain": [
       "1952"
      ]
     },
     "execution_count": 146,
     "metadata": {},
     "output_type": "execute_result"
    }
   ],
   "source": [
    "#How many Different Artist I have played using Spotify?\n",
    "tracks_data[\"artistName\"].nunique()"
   ]
  },
  {
   "cell_type": "code",
   "execution_count": 152,
   "metadata": {},
   "outputs": [
    {
     "name": "stdout",
     "output_type": "stream",
     "text": [
      "Year  Month  day\n",
      "2022  7      4      752.21\n",
      "2021  12     25     722.30\n",
      "2022  7      3      625.77\n",
      "Name: minPlayed, dtype: float64\n"
     ]
    }
   ],
   "source": [
    "#top days *by Minutes\n",
    "df_day = tracks_data.groupby(['Year','Month', 'day'])['minPlayed'].sum().sort_values(ascending=False)\n",
    "print (df_day.head(3))"
   ]
  },
  {
   "cell_type": "code",
   "execution_count": 158,
   "metadata": {},
   "outputs": [
    {
     "name": "stdout",
     "output_type": "stream",
     "text": [
      "Year  Month  day\n",
      "2022  7      4      286\n",
      "2021  12     25     243\n",
      "2022  6      11     219\n",
      "Name: name, dtype: int64\n"
     ]
    }
   ],
   "source": [
    "#top days by Amount of songs\n",
    "df_day1 = tracks_data.groupby(['Year','Month', 'day'])['name'].count().sort_values(ascending=False)\n",
    "print (df_day1.head(3))"
   ]
  },
  {
   "cell_type": "code",
   "execution_count": 159,
   "metadata": {},
   "outputs": [
    {
     "data": {
      "text/plain": [
       "44598.34999999999"
      ]
     },
     "execution_count": 159,
     "metadata": {},
     "output_type": "execute_result"
    }
   ],
   "source": [
    "tracks_data[\"minPlayed\"].sum()"
   ]
  },
  {
   "cell_type": "code",
   "execution_count": 1,
   "metadata": {},
   "outputs": [],
   "source": [
    "##END..."
   ]
  },
  {
   "cell_type": "code",
   "execution_count": null,
   "metadata": {},
   "outputs": [],
   "source": []
  }
 ],
 "metadata": {
  "kernelspec": {
   "display_name": "Python 3",
   "language": "python",
   "name": "python3"
  },
  "language_info": {
   "codemirror_mode": {
    "name": "ipython",
    "version": 3
   },
   "file_extension": ".py",
   "mimetype": "text/x-python",
   "name": "python",
   "nbconvert_exporter": "python",
   "pygments_lexer": "ipython3",
   "version": "3.8.5"
  }
 },
 "nbformat": 4,
 "nbformat_minor": 4
}
